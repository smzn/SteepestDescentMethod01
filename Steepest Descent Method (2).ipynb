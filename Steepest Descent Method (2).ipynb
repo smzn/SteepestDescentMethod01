{
 "cells": [
  {
   "cell_type": "markdown",
   "metadata": {},
   "source": [
    "# 最急降下法の例"
   ]
  },
  {
   "cell_type": "code",
   "execution_count": 1,
   "metadata": {},
   "outputs": [
    {
     "data": {
      "image/png": "[encoded data removed]",
      "text/latex": [
       "$$10 x_{1}^{2} + 5 x_{1} x_{2} + 10 \\left(x_{2} - 3\\right)^{2}$$"
      ],
      "text/plain": [
       "     2                        2\n",
       "10⋅x₁  + 5⋅x₁⋅x₂ + 10⋅(x₂ - 3) "
      ]
     },
     "execution_count": 1,
     "metadata": {},
     "output_type": "execute_result"
    }
   ],
   "source": [
    "import sympy\n",
    "x0, x1, x2, a0 = sympy.symbols('x0 x1 x2 a0')\n",
    "sympy.init_printing()\n",
    "\n",
    "f = 10*x1**2 +5*x1*x2 +10*(x2-3)**2\n",
    "f"
   ]
  },
  {
   "cell_type": "code",
   "execution_count": 2,
   "metadata": {},
   "outputs": [
    {
     "data": {
      "text/latex": [
       "$$\\left[\\begin{matrix}10\\\\15\\end{matrix}\\right]$$"
      ],
      "text/plain": [
       "⎡10⎤\n",
       "⎢  ⎥\n",
       "⎣15⎦"
      ]
     },
     "execution_count": 2,
     "metadata": {},
     "output_type": "execute_result"
    }
   ],
   "source": [
    "#x0が求めたい解、初期値を(10,15)とおく\n",
    "x0 = sympy.Matrix([[10],[15]])\n",
    "x0"
   ]
  },
  {
   "cell_type": "code",
   "execution_count": 3,
   "metadata": {},
   "outputs": [
    {
     "data": {
      "image/png": "[encoded data removed]",
      "text/latex": [
       "$$20 x_{1} + 5 x_{2}$$"
      ],
      "text/plain": [
       "20⋅x₁ + 5⋅x₂"
      ]
     },
     "execution_count": 3,
     "metadata": {},
     "output_type": "execute_result"
    }
   ],
   "source": [
    "dfx1 = sympy.diff(f, x1)\n",
    "dfx1"
   ]
  },
  {
   "cell_type": "code",
   "execution_count": 4,
   "metadata": {},
   "outputs": [
    {
     "data": {
      "image/png": "[encoded data removed]",
      "text/latex": [
       "$$5 x_{1} + 20 x_{2} - 60$$"
      ],
      "text/plain": [
       "5⋅x₁ + 20⋅x₂ - 60"
      ]
     },
     "execution_count": 4,
     "metadata": {},
     "output_type": "execute_result"
    }
   ],
   "source": [
    "dfx2 = sympy.diff(f, x2)\n",
    "dfx2"
   ]
  },
  {
   "cell_type": "code",
   "execution_count": 5,
   "metadata": {},
   "outputs": [
    {
     "data": {
      "text/latex": [
       "$$\\left[\\begin{matrix}20 x_{1} + 5 x_{2}\\\\5 x_{1} + 20 x_{2} - 60\\end{matrix}\\right]$$"
      ],
      "text/plain": [
       "⎡  20⋅x₁ + 5⋅x₂   ⎤\n",
       "⎢                 ⎥\n",
       "⎣5⋅x₁ + 20⋅x₂ - 60⎦"
      ]
     },
     "execution_count": 5,
     "metadata": {},
     "output_type": "execute_result"
    }
   ],
   "source": [
    "df = sympy.Matrix([[dfx1], [dfx2]])\n",
    "df"
   ]
  },
  {
   "cell_type": "code",
   "execution_count": 6,
   "metadata": {},
   "outputs": [
    {
     "data": {
      "text/latex": [
       "$$\\left[\\begin{matrix}275\\\\290\\end{matrix}\\right]$$"
      ],
      "text/plain": [
       "⎡275⎤\n",
       "⎢   ⎥\n",
       "⎣290⎦"
      ]
     },
     "execution_count": 6,
     "metadata": {},
     "output_type": "execute_result"
    }
   ],
   "source": [
    "dfx0 = sympy.Matrix([[df[0].subs([(x1, x0[0]), (x2, x0[1])])],[df[1].subs([(x1, x0[0]), (x2, x0[1])])]])\n",
    "dfx0"
   ]
  },
  {
   "cell_type": "code",
   "execution_count": 7,
   "metadata": {},
   "outputs": [
    {
     "data": {
      "text/latex": [
       "$$\\left[\\begin{matrix}- 275 a_{0} + 10\\\\- 290 a_{0} + 15\\end{matrix}\\right]$$"
      ],
      "text/plain": [
       "⎡-275⋅a₀ + 10⎤\n",
       "⎢            ⎥\n",
       "⎣-290⋅a₀ + 15⎦"
      ]
     },
     "execution_count": 7,
     "metadata": {},
     "output_type": "execute_result"
    }
   ],
   "source": [
    "#x0の更新\n",
    "x0 = x0 - a0*dfx0\n",
    "x0"
   ]
  },
  {
   "cell_type": "code",
   "execution_count": 8,
   "metadata": {},
   "outputs": [
    {
     "data": {
      "image/png": "[encoded data removed]",
      "text/latex": [
       "$$10 \\left(- 290 a_{0} + 12\\right)^{2} + 5 \\left(- 290 a_{0} + 15\\right) \\left(- 275 a_{0} + 10\\right) + 10 \\left(- 275 a_{0} + 10\\right)^{2}$$"
      ],
      "text/plain": [
       "                 2                                                      2\n",
       "10⋅(-290⋅a₀ + 12)  + 5⋅(-290⋅a₀ + 15)⋅(-275⋅a₀ + 10) + 10⋅(-275⋅a₀ + 10) "
      ]
     },
     "execution_count": 8,
     "metadata": {},
     "output_type": "execute_result"
    }
   ],
   "source": [
    "fa0 = f.subs([(x1, x0[0]),(x2, x0[1])])\n",
    "fa0"
   ]
  },
  {
   "cell_type": "code",
   "execution_count": 9,
   "metadata": {},
   "outputs": [
    {
     "data": {
      "image/png": "[encoded data removed]",
      "text/latex": [
       "$$0.04001127254509018$$"
      ],
      "text/plain": [
       "0.04001127254509018"
      ]
     },
     "execution_count": 9,
     "metadata": {},
     "output_type": "execute_result"
    }
   ],
   "source": [
    "#fa0が最小となるa0を求める\n",
    "#今回は２次関数なので、極小値となるa0を求める\n",
    "# solveはlistで返すので注意\n",
    "a0_val = sympy.solve(sympy.diff(fa0,a0))\n",
    "a0_val = float(a0_val[0])\n",
    "a0_val"
   ]
  },
  {
   "cell_type": "code",
   "execution_count": 10,
   "metadata": {},
   "outputs": [
    {
     "data": {
      "text/latex": [
       "$$\\left[\\begin{matrix}-1.0030999498998\\\\3.39673096192385\\end{matrix}\\right]$$"
      ],
      "text/plain": [
       "⎡-1.0030999498998⎤\n",
       "⎢                ⎥\n",
       "⎣3.39673096192385⎦"
      ]
     },
     "execution_count": 10,
     "metadata": {},
     "output_type": "execute_result"
    }
   ],
   "source": [
    "x0 = x0.subs(a0,a0_val)\n",
    "x0"
   ]
  },
  {
   "cell_type": "code",
   "execution_count": 11,
   "metadata": {},
   "outputs": [
    {
     "data": {
      "text/latex": [
       "$$\\left[\\begin{matrix}-3.07834418837677\\\\2.91911948897794\\end{matrix}\\right]$$"
      ],
      "text/plain": [
       "⎡-3.07834418837677⎤\n",
       "⎢                 ⎥\n",
       "⎣2.91911948897794 ⎦"
      ]
     },
     "execution_count": 11,
     "metadata": {},
     "output_type": "execute_result"
    }
   ],
   "source": [
    "dfx0 = sympy.Matrix([[df[0].subs([(x1, x0[0]), (x2, x0[1])])],[df[1].subs([(x1, x0[0]), (x2, x0[1])])]])\n",
    "dfx0"
   ]
  },
  {
   "cell_type": "code",
   "execution_count": 12,
   "metadata": {},
   "outputs": [
    {
     "data": {
      "text/latex": [
       "$$\\left[\\begin{matrix}3.07834418837677 a_{0} - 1.0030999498998\\\\- 2.91911948897794 a_{0} + 3.39673096192385\\end{matrix}\\right]$$"
      ],
      "text/plain": [
       "⎡ 3.07834418837677⋅a₀ - 1.0030999498998 ⎤\n",
       "⎢                                       ⎥\n",
       "⎣-2.91911948897794⋅a₀ + 3.39673096192385⎦"
      ]
     },
     "execution_count": 12,
     "metadata": {},
     "output_type": "execute_result"
    }
   ],
   "source": [
    "#x0の更新\n",
    "x0 = x0 - a0*dfx0\n",
    "x0"
   ]
  },
  {
   "cell_type": "code",
   "execution_count": 13,
   "metadata": {},
   "outputs": [
    {
     "data": {
      "image/png": "[encoded data removed]",
      "text/latex": [
       "$$10 \\left(- 2.91911948897794 a_{0} + 0.396730961923847\\right)^{2} + 5 \\left(- 2.91911948897794 a_{0} + 3.39673096192385\\right) \\left(3.07834418837677 a_{0} - 1.0030999498998\\right) + 10 \\left(3.07834418837677 a_{0} - 1.0030999498998\\right)^{2}$$"
      ],
      "text/plain": [
       "                                             2                                \n",
       "10⋅(-2.91911948897794⋅a₀ + 0.396730961923847)  + 5⋅(-2.91911948897794⋅a₀ + 3.3\n",
       "\n",
       "                                                                              \n",
       "9673096192385)⋅(3.07834418837677⋅a₀ - 1.0030999498998) + 10⋅(3.07834418837677⋅\n",
       "\n",
       "                     2\n",
       "a₀ - 1.0030999498998) "
      ]
     },
     "execution_count": 13,
     "metadata": {},
     "output_type": "execute_result"
    }
   ],
   "source": [
    "fa0 = f.subs([(x1, x0[0]),(x2, x0[1])])\n",
    "fa0"
   ]
  },
  {
   "cell_type": "code",
   "execution_count": 14,
   "metadata": {},
   "outputs": [
    {
     "data": {
      "image/png": "[encoded data removed]",
      "text/latex": [
       "$$0.0666353775552776$$"
      ],
      "text/plain": [
       "0.0666353775552776"
      ]
     },
     "execution_count": 14,
     "metadata": {},
     "output_type": "execute_result"
    }
   ],
   "source": [
    "#fa0が最小となるa0を求める\n",
    "#今回は２次関数なので、極小値となるa0を求める\n",
    "# solveはlistで返すので注意\n",
    "a0_val = sympy.solve(sympy.diff(fa0,a0))\n",
    "a0_val = float(a0_val[0])\n",
    "a0_val"
   ]
  },
  {
   "cell_type": "code",
   "execution_count": 15,
   "metadata": {},
   "outputs": [
    {
     "data": {
      "text/latex": [
       "$$\\left[\\begin{matrix}-0.79797332266222\\\\3.20221433264683\\end{matrix}\\right]$$"
      ],
      "text/plain": [
       "⎡-0.79797332266222⎤\n",
       "⎢                 ⎥\n",
       "⎣3.20221433264683 ⎦"
      ]
     },
     "execution_count": 15,
     "metadata": {},
     "output_type": "execute_result"
    }
   ],
   "source": [
    "x0 = x0.subs(a0,a0_val)\n",
    "x0"
   ]
  },
  {
   "cell_type": "code",
   "execution_count": 16,
   "metadata": {},
   "outputs": [
    {
     "data": {
      "text/latex": [
       "$$\\left[\\begin{matrix}0.0516052099897735\\\\0.0544200396255619\\end{matrix}\\right]$$"
      ],
      "text/plain": [
       "⎡0.0516052099897735⎤\n",
       "⎢                  ⎥\n",
       "⎣0.0544200396255619⎦"
      ]
     },
     "execution_count": 16,
     "metadata": {},
     "output_type": "execute_result"
    }
   ],
   "source": [
    "dfx0 = sympy.Matrix([[df[0].subs([(x1, x0[0]), (x2, x0[1])])],[df[1].subs([(x1, x0[0]), (x2, x0[1])])]])\n",
    "dfx0"
   ]
  },
  {
   "cell_type": "code",
   "execution_count": 17,
   "metadata": {},
   "outputs": [
    {
     "data": {
      "text/latex": [
       "$$\\left[\\begin{matrix}- 0.0516052099897735 a_{0} - 0.79797332266222\\\\- 0.0544200396255619 a_{0} + 3.20221433264683\\end{matrix}\\right]$$"
      ],
      "text/plain": [
       "⎡-0.0516052099897735⋅a₀ - 0.79797332266222⎤\n",
       "⎢                                         ⎥\n",
       "⎣-0.0544200396255619⋅a₀ + 3.20221433264683⎦"
      ]
     },
     "execution_count": 17,
     "metadata": {},
     "output_type": "execute_result"
    }
   ],
   "source": [
    "#x0の更新\n",
    "x0 = x0 - a0*dfx0\n",
    "x0"
   ]
  },
  {
   "cell_type": "code",
   "execution_count": 18,
   "metadata": {},
   "outputs": [
    {
     "data": {
      "image/png": "[encoded data removed]",
      "text/latex": [
       "$$10 \\left(- 0.0544200396255619 a_{0} + 0.202214332646833\\right)^{2} + 5 \\left(- 0.0544200396255619 a_{0} + 3.20221433264683\\right) \\left(- 0.0516052099897735 a_{0} - 0.79797332266222\\right) + 10 \\left(- 0.0516052099897735 a_{0} - 0.79797332266222\\right)^{2}$$"
      ],
      "text/plain": [
       "                                               2                              \n",
       "10⋅(-0.0544200396255619⋅a₀ + 0.202214332646833)  + 5⋅(-0.0544200396255619⋅a₀ +\n",
       "\n",
       "                                                                              \n",
       " 3.20221433264683)⋅(-0.0516052099897735⋅a₀ - 0.79797332266222) + 10⋅(-0.051605\n",
       "\n",
       "                                 2\n",
       "2099897735⋅a₀ - 0.79797332266222) "
      ]
     },
     "execution_count": 18,
     "metadata": {},
     "output_type": "execute_result"
    }
   ],
   "source": [
    "fa0 = f.subs([(x1, x0[0]),(x2, x0[1])])\n",
    "fa0"
   ]
  },
  {
   "cell_type": "code",
   "execution_count": 19,
   "metadata": {},
   "outputs": [
    {
     "data": {
      "image/png": "[encoded data removed]",
      "text/latex": [
       "$$0.040011272545088176$$"
      ],
      "text/plain": [
       "0.040011272545088176"
      ]
     },
     "execution_count": 19,
     "metadata": {},
     "output_type": "execute_result"
    }
   ],
   "source": [
    "#fa0が最小となるa0を求める\n",
    "#今回は２次関数なので、極小値となるa0を求める\n",
    "# solveはlistで返すので注意\n",
    "a0_val = sympy.solve(sympy.diff(fa0,a0))\n",
    "a0_val = float(a0_val[0])\n",
    "a0_val"
   ]
  },
  {
   "cell_type": "code",
   "execution_count": 20,
   "metadata": {},
   "outputs": [
    {
     "data": {
      "text/latex": [
       "$$\\left[\\begin{matrix}-0.800038112783867\\\\3.20003691760946\\end{matrix}\\right]$$"
      ],
      "text/plain": [
       "⎡-0.800038112783867⎤\n",
       "⎢                  ⎥\n",
       "⎣ 3.20003691760946 ⎦"
      ]
     },
     "execution_count": 20,
     "metadata": {},
     "output_type": "execute_result"
    }
   ],
   "source": [
    "x0 = x0.subs(a0,a0_val)\n",
    "x0"
   ]
  },
  {
   "cell_type": "markdown",
   "metadata": {},
   "source": [
    "## 解析的に解く"
   ]
  },
  {
   "cell_type": "code",
   "execution_count": 21,
   "metadata": {},
   "outputs": [
    {
     "data": {
      "image/png": "[encoded data removed]",
      "text/latex": [
       "$$\\left \\{ x_{1} : - \\frac{4}{5}, \\quad x_{2} : \\frac{16}{5}\\right \\}$$"
      ],
      "text/plain": [
       "{x₁: -4/5, x₂: 16/5}"
      ]
     },
     "execution_count": 21,
     "metadata": {},
     "output_type": "execute_result"
    }
   ],
   "source": [
    "x_0 = sympy.solve([dfx1, dfx2])\n",
    "x_0"
   ]
  }
 ],
 "metadata": {
  "kernelspec": {
   "display_name": "Python 3",
   "language": "python",
   "name": "python3"
  },
  "language_info": {
   "codemirror_mode": {
    "name": "ipython",
    "version": 3
   },
   "file_extension": ".py",
   "mimetype": "text/x-python",
   "name": "python",
   "nbconvert_exporter": "python",
   "pygments_lexer": "ipython3",
   "version": "3.7.1"
  }
 },
 "nbformat": 4,
 "nbformat_minor": 2
}
